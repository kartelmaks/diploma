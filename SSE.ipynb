{
  "nbformat": 4,
  "nbformat_minor": 0,
  "metadata": {
    "kernelspec": {
      "display_name": "Python 3",
      "language": "python",
      "name": "python3"
    },
    "language_info": {
      "codemirror_mode": {
        "name": "ipython",
        "version": 3
      },
      "file_extension": ".py",
      "mimetype": "text/x-python",
      "name": "python",
      "nbconvert_exporter": "python",
      "pygments_lexer": "ipython3",
      "version": "3.8.3"
    },
    "colab": {
      "name": "SSE.ipynb",
      "provenance": [],
      "collapsed_sections": [],
      "include_colab_link": true
    }
  },
  "cells": [
    {
      "cell_type": "markdown",
      "metadata": {
        "id": "view-in-github",
        "colab_type": "text"
      },
      "source": [
        "<a href=\"https://colab.research.google.com/github/kartelmaks/diploma/blob/master/SSE.ipynb\" target=\"_parent\"><img src=\"https://colab.research.google.com/assets/colab-badge.svg\" alt=\"Open In Colab\"/></a>"
      ]
    },
    {
      "cell_type": "code",
      "metadata": {
        "id": "eJlGA5HnXN2c"
      },
      "source": [
        "import numpy as np\n",
        "import pandas as pd\n",
        "import scipy as sp\n",
        "import matplotlib.pyplot as plt\n",
        "plt.style.use('ggplot')\n",
        "import plotly.express as px\n",
        "\n",
        "from scipy.sparse import csr_matrix, lil_matrix, diags"
      ],
      "execution_count": 1,
      "outputs": []
    },
    {
      "cell_type": "code",
      "metadata": {
        "id": "dxN9rrPGY6Kt"
      },
      "source": [
        "#from google.colab import files\r\n",
        "#uploaded = files.upload()\r\n"
      ],
      "execution_count": 2,
      "outputs": []
    },
    {
      "cell_type": "code",
      "metadata": {
        "id": "ObOqEPuxXN2f"
      },
      "source": [
        "#X = pd.read_csv('data1.csv', header = None).transpose()"
      ],
      "execution_count": 3,
      "outputs": []
    },
    {
      "cell_type": "markdown",
      "metadata": {
        "id": "C-PhUrm5zBcj"
      },
      "source": [
        "Герерація спетру"
      ]
    },
    {
      "cell_type": "code",
      "metadata": {
        "id": "aKmyuta_bbC7"
      },
      "source": [
        "N = 1024\r\n",
        "r_max = 100\r\n",
        "\r\n",
        "M = [0, 10, 20]\r\n",
        "sig_p = [5, 10, 5, 20, 15]\r\n",
        "I = [0.9, 1, 0.8, 0.6, 0.75]\r\n",
        "p = [100, 250, 500, 750, 900] \r\n"
      ],
      "execution_count": 4,
      "outputs": []
    },
    {
      "cell_type": "code",
      "metadata": {
        "id": "F1RvlwahzA3M",
        "colab": {
          "base_uri": "https://localhost:8080/",
          "height": 282
        },
        "outputId": "9d2704be-98b7-43a0-d658-f2c52017c400"
      },
      "source": [
        "R = list()\r\n",
        "for i in range(len(M)):\r\n",
        "  R.append(get_spectr(M[i]))\r\n",
        "R = np.array(R)\r\n",
        "print(R.shape )\r\n",
        "\r\n",
        "X_ = pd.DataFrame(R)\r\n",
        "for i in range(len(X_)):\r\n",
        "    Y_axis = np.array(X_.iloc[i,:], dtype = np.float32)\r\n",
        "    X_axis = np.array(range(N))\r\n",
        "    plt.plot(X_axis, Y_axis)\r\n",
        "plt.show()\r\n",
        "\r\n"
      ],
      "execution_count": 6,
      "outputs": [
        {
          "output_type": "stream",
          "text": [
            "(3, 1024)\n"
          ],
          "name": "stdout"
        },
        {
          "output_type": "display_data",
          "data": {
            "image/png": "[encoded data removed]",
            "text/plain": [
              "<Figure size 432x288 with 1 Axes>"
            ]
          },
          "metadata": {
            "tags": [],
            "needs_background": "light"
          }
        }
      ]
    },
    {
      "cell_type": "code",
      "metadata": {
        "id": "tmoppZaZU-EC"
      },
      "source": [
        ""
      ],
      "execution_count": 6,
      "outputs": []
    },
    {
      "cell_type": "code",
      "metadata": {
        "id": "ePyflhPJJzRk"
      },
      "source": [
        ""
      ],
      "execution_count": 6,
      "outputs": []
    },
    {
      "cell_type": "code",
      "metadata": {
        "id": "nmaHgj38XN2g",
        "colab": {
          "base_uri": "https://localhost:8080/",
          "height": 35
        },
        "outputId": "a5836be1-de37-4e8d-8d05-067c885d022d"
      },
      "source": [
        "'''l1 = 400\n",
        "l2 = 1340\n",
        "X = X.iloc[:,l1:l2]\n",
        "X.columns = range(l2-l1)'''"
      ],
      "execution_count": 8,
      "outputs": [
        {
          "output_type": "execute_result",
          "data": {
            "application/vnd.google.colaboratory.intrinsic+json": {
              "type": "string"
            },
            "text/plain": [
              "'l1 = 400\\nl2 = 1340\\nX = X.iloc[:,l1:l2]\\nX.columns = range(l2-l1)'"
            ]
          },
          "metadata": {
            "tags": []
          },
          "execution_count": 8
        }
      ]
    },
    {
      "cell_type": "code",
      "metadata": {
        "id": "mu2ComPxXN2g"
      },
      "source": [
        "m, k = X.shape\n",
        "print(m, k)"
      ],
      "execution_count": null,
      "outputs": []
    },
    {
      "cell_type": "code",
      "metadata": {
        "id": "QeVIeNSQaISC"
      },
      "source": [
        ""
      ],
      "execution_count": null,
      "outputs": []
    },
    {
      "cell_type": "code",
      "metadata": {
        "id": "b2qlp7GGXN2o"
      },
      "source": [
        "shift = [0, 10, 20]"
      ],
      "execution_count": null,
      "outputs": []
    },
    {
      "cell_type": "code",
      "metadata": {
        "id": "sgIeRb-DXN2p"
      },
      "source": [
        "E = diags([1], [0], shape=(k,k), dtype=float)\n",
        "S = np.array(X)"
      ],
      "execution_count": null,
      "outputs": []
    },
    {
      "cell_type": "code",
      "metadata": {
        "id": "Fb1QX0HPXN2p"
      },
      "source": [
        "l = 2\n",
        "n = 1"
      ],
      "execution_count": null,
      "outputs": []
    },
    {
      "cell_type": "code",
      "metadata": {
        "id": "SSi1pmmZXN2p"
      },
      "source": [
        "I_arr = list()\n",
        "E_arr = list()\n",
        "E = diags([1], [0], shape=(k,k), dtype=float)\n",
        "\n",
        "for r in range(m):\n",
        "    I = diags([1], [-shift[r]], shape=(k,k), dtype=float)\n",
        "    I_arr.append(I)\n",
        "    \n",
        "for r in range(m):\n",
        "    E_arr.append(E)\n",
        "\n",
        "A = [I_arr, E_arr]"
      ],
      "execution_count": null,
      "outputs": []
    },
    {
      "cell_type": "code",
      "metadata": {
        "id": "Jf9tyOWrEwyN"
      },
      "source": [
        ""
      ],
      "execution_count": null,
      "outputs": []
    },
    {
      "cell_type": "markdown",
      "metadata": {
        "id": "hi7hKIiLXN2q"
      },
      "source": [
        "# Матричний метод"
      ]
    },
    {
      "cell_type": "code",
      "metadata": {
        "scrolled": false,
        "id": "ZJksj6QtXN2q"
      },
      "source": [
        "x = pd.DataFrame()\n",
        "for i in range(l):    \n",
        "    s = np.zeros(k)\n",
        "    for j in range(m):\n",
        "\n",
        "        R = lil_matrix(S[j]).T\n",
        "        H = A[i][j]\n",
        "\n",
        "        w = (H * R).toarray()\n",
        "        s = [x + y for x, y in zip(s, w)]\n",
        "        \n",
        "    s = pd.DataFrame(s).transpose()\n",
        "    x = x.append(s)\n",
        "    print(x.shape)\n",
        "\n",
        "            "
      ],
      "execution_count": null,
      "outputs": []
    },
    {
      "cell_type": "code",
      "metadata": {
        "id": "HVlRnX1XXN2r"
      },
      "source": [
        ""
      ],
      "execution_count": null,
      "outputs": []
    },
    {
      "cell_type": "code",
      "metadata": {
        "scrolled": true,
        "id": "f8ziaiv1XN2r"
      },
      "source": [
        "X_ = pd.DataFrame(x)\n",
        "for i in range(len(X_)):\n",
        "    Y_axis = np.array(X_.iloc[i,:], dtype = np.float32)\n",
        "    plt.plot(Y_axis)\n",
        "plt.show()"
      ],
      "execution_count": null,
      "outputs": []
    },
    {
      "cell_type": "markdown",
      "metadata": {
        "id": "RGYbChVAXN2r"
      },
      "source": [
        "# NNLS"
      ]
    },
    {
      "cell_type": "code",
      "metadata": {
        "id": "DZa4aTaKXN2s"
      },
      "source": [
        "from scipy.optimize import nnls"
      ],
      "execution_count": null,
      "outputs": []
    },
    {
      "cell_type": "code",
      "metadata": {
        "id": "fa0asBqGmyDJ"
      },
      "source": [
        "I_arr1 = list()\r\n",
        "E_arr1 = list()\r\n",
        "E1 = np.diag(np.ones(k))\r\n",
        "\r\n",
        "for r in range(m):\r\n",
        "    I1 = np.diag(np.ones(k), k = -shift[r])\r\n",
        "    I_arr1.append(I1)\r\n",
        "    \r\n",
        "for r in range(m):\r\n",
        "    E_arr1.append(E1)\r\n",
        "\r\n",
        "A1 = [I_arr1, E_arr1]"
      ],
      "execution_count": null,
      "outputs": []
    },
    {
      "cell_type": "code",
      "metadata": {
        "id": "4yVCzY-qoIZh"
      },
      "source": [
        "X[0]"
      ],
      "execution_count": null,
      "outputs": []
    },
    {
      "cell_type": "code",
      "metadata": {
        "id": "DPlag5RYXN2s"
      },
      "source": [
        "R = list()\r\n",
        "R.append(X.iloc[0])\r\n",
        "R.append(X.iloc[1])\r\n",
        "R.append(X.iloc[2])\r\n",
        "R = np.array(R)\r\n",
        "R.shape"
      ],
      "execution_count": null,
      "outputs": []
    },
    {
      "cell_type": "code",
      "metadata": {
        "id": "GANLir1AcTT4"
      },
      "source": [
        "A1 = np.array(A)\r\n",
        "R = np.array(R)"
      ],
      "execution_count": null,
      "outputs": []
    },
    {
      "cell_type": "code",
      "metadata": {
        "id": "aCyAAV0vqNcz"
      },
      "source": [
        "R.shape"
      ],
      "execution_count": null,
      "outputs": []
    },
    {
      "cell_type": "code",
      "metadata": {
        "id": "vb1_RrpHXN2s"
      },
      "source": [
        "#X = nnls(A1, R)"
      ],
      "execution_count": null,
      "outputs": []
    },
    {
      "cell_type": "code",
      "metadata": {
        "id": "4UBioV6CDkQf"
      },
      "source": [
        ""
      ],
      "execution_count": null,
      "outputs": []
    },
    {
      "cell_type": "code",
      "metadata": {
        "id": "y_RQF3RBXN2t"
      },
      "source": [
        ""
      ],
      "execution_count": null,
      "outputs": []
    },
    {
      "cell_type": "code",
      "metadata": {
        "id": "y6N5yu-BXN2t"
      },
      "source": [
        ""
      ],
      "execution_count": null,
      "outputs": []
    },
    {
      "cell_type": "code",
      "metadata": {
        "id": "YT2x8R16XN2u"
      },
      "source": [
        ""
      ],
      "execution_count": null,
      "outputs": []
    }
  ]
}